{
 "cells": [
  {
   "cell_type": "markdown",
   "metadata": {},
   "source": [
    "## # SNR example, Alan Weinstein for CGWAS 2015"
   ]
  },
  {
   "cell_type": "code",
   "execution_count": 1,
   "metadata": {
    "collapsed": false
   },
   "outputs": [],
   "source": [
    "# import the python packages that we need (minimal)\n",
    "import numpy as np\n",
    "%matplotlib inline\n",
    "import matplotlib\n",
    "#matplotlib.use('MacOSX')\n",
    "from matplotlib import pyplot as plt"
   ]
  },
  {
   "cell_type": "code",
   "execution_count": 2,
   "metadata": {
    "collapsed": false
   },
   "outputs": [],
   "source": [
    "# constants in SI units\n",
    "# (will need to convert to get answers in km, ergs, ...)\n",
    "\n",
    "pi = np.pi\n",
    "c = 299792458.        # m/s\n",
    "Msun = 1.98892e30     # kg\n",
    "G = 6.67384e-11       # m**3 / s**2 / kg\n",
    "pc = 3.085677e16      # parsec, m\n",
    "Dist = 1.e6*pc        # Distance, 1 Mpc in m"
   ]
  },
  {
   "cell_type": "code",
   "execution_count": 3,
   "metadata": {
    "collapsed": false
   },
   "outputs": [],
   "source": [
    "# sampling rate for inspiral evolution\n",
    "fsamp = 4096    # sampling rate\n",
    "dt = 1./fsamp   # time step"
   ]
  },
  {
   "cell_type": "code",
   "execution_count": 4,
   "metadata": {
    "collapsed": false
   },
   "outputs": [],
   "source": [
    "# binary masses in solar masses\n",
    "m1 = 1.4 \n",
    "m2 = 1.4 "
   ]
  },
  {
   "cell_type": "code",
   "execution_count": 5,
   "metadata": {
    "collapsed": false
   },
   "outputs": [],
   "source": [
    "# masses in SI units:\n",
    "M1 = m1*Msun\n",
    "M2 = m2*Msun\n",
    "M = M1+M2                         # total mass\n",
    "Mu = M1*M2/M                      # reduced mass in CMS\n",
    "Mchirp = M**(2./5.)*Mu**(3./5.)   # chirp mass"
   ]
  },
  {
   "cell_type": "code",
   "execution_count": 6,
   "metadata": {
    "collapsed": false
   },
   "outputs": [],
   "source": [
    "# Initial condition: Orbital period of 0.1 s\n",
    "Porb0 = 0.1\n",
    "forb0 = 1./Porb0\n",
    "fGW0 = 2.*forb0\n",
    "om0 = 2.*pi*forb0\n",
    "aorb0 = (G*M/om0**2)**(1./3.)       # Kepler's 3rd law\n",
    "vorb0 = aorb0*om0                   # orbital velocity in cms\n",
    "borb0 = vorb0/c                     # v/c\n",
    "Ekin0 = Mu*vorb0**2/2.              # kinetic energy in cms\n",
    "Epot0 = -G*Mu*M/aorb0               # potential energy in cms\n",
    "Etot0 = Ekin0+Epot0                 # total energy\n",
    "# Virial thm: Etot = Ekin + Epot ; Epot = -2*Ekin , Etot = -Ekin = Epot/2\n",
    "Jorb0 = np.sqrt(G*M*Mu**2*aorb0)    # orbital ang mom\n",
    "tchirp = 5./(256.*(Mu/M))*(G*M/c**3)/borb0**8   # chirp time"
   ]
  },
  {
   "cell_type": "code",
   "execution_count": 7,
   "metadata": {
    "collapsed": false
   },
   "outputs": [
    {
     "name": "stdout",
     "output_type": "stream",
     "text": [
      "f GW at start = 20.0 Hz\n",
      "orbital separation a at start = 454.915219517 km\n",
      "orbital velocity v at start = 28583.1662328 km/s\n",
      "v/c at start = 0.0953431798235 \n",
      "Kinetic   energy Ekin at start = 5.6872985844e+51 ergs\n",
      "Potential energy Epot at start = -1.13745971688e+52 ergs\n",
      "Total     energy Etot at start = -5.6872985844e+51 ergs\n",
      "orbital angular momentum Jorb at start = 1.81032336509e+43 kg m^2 /s\n"
     ]
    }
   ],
   "source": [
    "# Questions 1,2,3:\n",
    "print 'f GW at start = '+str(fGW0)+' Hz'\n",
    "print 'orbital separation a at start = '+str(aorb0*1.e-3)+' km'\n",
    "print 'orbital velocity v at start = '+str(vorb0*1.e-3)+' km/s'\n",
    "print 'v/c at start = '+str(borb0)+' '\n",
    "print 'Kinetic   energy Ekin at start = '+str(Ekin0*1.e7)+' ergs'\n",
    "print 'Potential energy Epot at start = '+str(Epot0*1.e7)+' ergs'\n",
    "print 'Total     energy Etot at start = '+str(Etot0*1.e7)+' ergs'\n",
    "print 'orbital angular momentum Jorb at start = '+str(Jorb0)+' kg m^2 /s'"
   ]
  },
  {
   "cell_type": "code",
   "execution_count": 8,
   "metadata": {
    "collapsed": false
   },
   "outputs": [],
   "source": [
    "# Final conditions at ISCO:\n",
    "aorbI = 6.*G*M/c**2         # end inspiral at ISCO\n",
    "omI = np.sqrt(G*M/aorbI**3)\n",
    "forbI = omI/(2.*pi)\n",
    "fGWI = 2.*forbI\n",
    "vorbI = aorbI*omI\n",
    "borbI = vorbI/c\n",
    "EkinI = Mu*vorbI**2/2.\n",
    "EpotI = - G*Mu*M/aorbI\n",
    "EtotI = EkinI+EpotI\n",
    "JorbI = np.sqrt(G*M*Mu**2*aorbI)"
   ]
  },
  {
   "cell_type": "code",
   "execution_count": 9,
   "metadata": {
    "collapsed": false
   },
   "outputs": [
    {
     "name": "stdout",
     "output_type": "stream",
     "text": [
      "f GW at ISCO = 1570.12498212 Hz\n",
      "orbital separation a at ISCO = 24.8119548018 km\n",
      "orbital velocity v at ISCO = 122389.758472 km/s\n",
      "v/c at ISCO = 0.408248290464 \n",
      "Kinetic   energy Ekin at ISCO = 1.04273875422e+53 ergs\n",
      "Potential energy Epot at ISCO = -2.08547750844e+53 ergs\n",
      "Total     energy Etot at ISCO = -1.04273875422e+53 ergs\n",
      "orbital angular momentum Jorb at ISCO = 4.22786794626e+42 kg m^2 /s\n"
     ]
    }
   ],
   "source": [
    "# Questions 4,5,6,7:\n",
    "print 'f GW at ISCO = '+str(fGWI)+' Hz'\n",
    "print 'orbital separation a at ISCO = '+str(aorbI*1.e-3)+' km'\n",
    "print 'orbital velocity v at ISCO = '+str(vorbI*1.e-3)+' km/s'\n",
    "print 'v/c at ISCO = '+str(borbI)+' '\n",
    "print 'Kinetic   energy Ekin at ISCO = '+str(EkinI*1.e7)+' ergs'\n",
    "print 'Potential energy Epot at ISCO = '+str(EpotI*1.e7)+' ergs'\n",
    "print 'Total     energy Etot at ISCO = '+str(EtotI*1.e7)+' ergs'\n",
    "print 'orbital angular momentum Jorb at ISCO = '+str(JorbI)+' kg m^2 /s'"
   ]
  },
  {
   "cell_type": "code",
   "execution_count": 10,
   "metadata": {
    "collapsed": false
   },
   "outputs": [
    {
     "name": "stdout",
     "output_type": "stream",
     "text": [
      "Energy released from inspiral = 9.85865768377e+52 erg\n",
      "Energy release in units of Mc^2 = 0.019697043091\n",
      "Energy flux at 1 Mpc = 823.961645702 erg/cm^2\n"
     ]
    }
   ],
   "source": [
    "# Questions 8,9:\n",
    "print 'Energy released from inspiral = '+str((Etot0-EtotI)*1.e7)+' erg'\n",
    "print 'Energy release in units of Mc^2 = '+str((Etot0-EtotI)/(M*c**2))\n",
    "print 'Energy flux at 1 Mpc = '+ \\\n",
    "       str((Etot0-EtotI)*1.e7/(4.*pi*(Dist*100.)**2))+' erg/cm^2'"
   ]
  },
  {
   "cell_type": "code",
   "execution_count": 11,
   "metadata": {
    "collapsed": false
   },
   "outputs": [],
   "source": [
    "# compute the expected SNR for a CBC at Dist.\n",
    "# first a frequency vector\n",
    "fmin = 20.\n",
    "fmax = 2048.\n",
    "Nf = 10000                  # number of frequency bins\n",
    "df = (fmax-fmin)/Nf\n",
    "f = fmin+np.arange(Nf)*df"
   ]
  },
  {
   "cell_type": "code",
   "execution_count": 12,
   "metadata": {
    "collapsed": false
   },
   "outputs": [],
   "source": [
    "# Question 12:\n",
    "# The iLIGO (SRD) noise curve:\n",
    "Ssei = 1.0e-36*(f/20.)**(-28)\n",
    "Sth  = 1.0e-44*(f/62.)**(-4)\n",
    "Ssh  = 1.0e-46+1.0e-42*(f/7900.)**(2)\n",
    "Sf = Ssei+Sth+Ssh"
   ]
  },
  {
   "cell_type": "code",
   "execution_count": 13,
   "metadata": {
    "collapsed": false
   },
   "outputs": [],
   "source": [
    "# Questions 13,14:\n",
    "# then the template up to ISCO:\n",
    "fI = f[f < fGWI]\n",
    "SfI = Sf[f< fGWI]\n",
    "# GW strain h(f) in frequency domain,\n",
    "# optimal location and orientation, distance Dist:\n",
    "hf = np.sqrt(5*pi/24.)*G**2*Mchirp**2/(c**5*Dist)* \\\n",
    "     np.power(pi*G*Mchirp*fI/c**3,-7./6.)\n",
    "# the expected SNR for a CBC at Dist.\n",
    "SNR2 = 4.*np.sum(hf*hf/SfI)*df\n",
    "SNR = np.sqrt(SNR2)\n",
    "# A careful evaluation of the detector response \n",
    "# averaged over source location and orientation yields:\n",
    "horizon_to_average = 2.26\n",
    "BNS_horizon = SNR/8.\n",
    "BNS_range = BNS_horizon/horizon_to_average"
   ]
  },
  {
   "cell_type": "code",
   "execution_count": 14,
   "metadata": {
    "collapsed": false
   },
   "outputs": [
    {
     "name": "stdout",
     "output_type": "stream",
     "text": [
      "SNR at 1 Mpc = 251.681445708\n",
      "Horizon Distance at which the SNR is 8 = 31.4601807135 Mpc\n",
      "Average Distance at which the SNR is 8 = 13.920433944 Mpc\n"
     ]
    }
   ],
   "source": [
    "# Questions 14, 15, 16:\n",
    "print 'SNR at 1 Mpc = '+str(SNR)\n",
    "print 'Horizon Distance at which the SNR is 8 = '+str(BNS_horizon)+' Mpc'\n",
    "print 'Average Distance at which the SNR is 8 = '+str(BNS_range)+' Mpc'"
   ]
  },
  {
   "cell_type": "code",
   "execution_count": 15,
   "metadata": {
    "collapsed": false
   },
   "outputs": [
    {
     "data": {
      "image/png": "[encoded data removed]",
      "text/plain": [
       "<matplotlib.figure.Figure at 0x107114cd0>"
      ]
     },
     "metadata": {},
     "output_type": "display_data"
    }
   ],
   "source": [
    "# plot it against the noise curve\n",
    "plt.figure(11)\n",
    "plt.loglog(f,np.sqrt(Sf),'k')\n",
    "plt.loglog(fI,hf*np.sqrt(fI)/BNS_horizon,'b')   # end this at fGWI\n",
    "plt.loglog(fI[-1],hf[-1]*np.sqrt(fI[-1])/BNS_horizon,'r*')   # end this at fGWI\n",
    "plt.xlabel('frequency (Hz)')\n",
    "plt.ylabel('noise (strain/rtHz) and h(f)*f^(1/2)')\n",
    "plt.legend(['iLIGO strain noise spectrum','binary inspiral, 1.4/1.4, 1 Mpc','ISCO'])\n",
    "plt.xlim([20, 2048])\n",
    "plt.ylim([1.e-23, 1.e-18])\n",
    "plt.grid(True,'both')\n",
    "plt.show()"
   ]
  },
  {
   "cell_type": "code",
   "execution_count": 16,
   "metadata": {
    "collapsed": false
   },
   "outputs": [
    {
     "name": "stdout",
     "output_type": "stream",
     "text": [
      "251.681445708\n",
      "BNS range =  13.920433944\n",
      "BNS rate =  0.0112991800936\n"
     ]
    }
   ],
   "source": [
    "# Question 17:\n",
    "# rate of BNS mergers per year:\n",
    "print SNR\n",
    "BNS_range = SNR/8./horizon_to_average\n",
    "# compute sensitive volume, neglecting cosmological effects\n",
    "Sensitive_volume = 4./3.*pi*BNS_range**3\n",
    "# BNS rate per cubic Mpc per year:\n",
    "BNS_rate_density = 1.e-6\n",
    "BNS_rate = BNS_rate_density*Sensitive_volume\n",
    "print \"BNS range = \", BNS_range\n",
    "print \"BNS rate = \", BNS_rate"
   ]
  },
  {
   "cell_type": "code",
   "execution_count": 17,
   "metadata": {
    "collapsed": false
   },
   "outputs": [],
   "source": [
    "# Question 18:\n",
    "# Well, all you need to do is change the masses near the top, \n",
    "# and repeat all the following steps.\n",
    "# LOOK at the numbers to develop the intuition of the \n",
    "# orbital separations, f_ISCO, energetics, etc."
   ]
  },
  {
   "cell_type": "code",
   "execution_count": 18,
   "metadata": {
    "collapsed": false
   },
   "outputs": [],
   "source": [
    "# Question 19:\n",
    "# loop over masses, compute horizon distance for binary inspiral.\n",
    "# If needed, make this loop faster by computing constants at the start.\n",
    "ms = np.arange(2.,200.,0.2)\n",
    "Dhor = []\n",
    "Dist = 1.e6*pc    # 1 Mpc\n",
    "for M in ms*Msun:\n",
    "    # Mu = (M/2.)*(M/2.)/M\n",
    "    # Mchirp = M**(2./5.)*Mu**(3./5.)   # chirp mass\n",
    "    Mchirp = M*(1./4.)**(3./5.)   # chirp mass\n",
    "    # compute the frequency at ISCO:\n",
    "    # aorbI = 6.*G*M/c**2\n",
    "    # fGWI = np.sqrt(G*M/aorbI**3)/pi\n",
    "    fGWI = 1./(6.**(3./2.)*pi*G*M/c**3)\n",
    "    # frequency vectors should end at ISCO:\n",
    "    fI = f[f < fGWI]\n",
    "    SfI = Sf[f< fGWI]\n",
    "    # GW strain h(f) in frequency domain,\n",
    "    # optimal location and orientation, distance Dist:\n",
    "    hf = np.sqrt(5*pi/24.)*G**2*Mchirp**2/(c**5*Dist)* \\\n",
    "         np.power(pi*G*Mchirp*fI/c**3,-7./6.)\n",
    "    # the expected SNR for a CBC at Dist.\n",
    "    SNR = np.sqrt(4.*np.sum(hf*hf/SfI)*df)\n",
    "    Dhor.append(SNR/8.)    # horizon distance\n",
    "\n",
    "# put the python list into a numpy array:\n",
    "Dhor = np.array(Dhor)    "
   ]
  },
  {
   "cell_type": "code",
   "execution_count": 19,
   "metadata": {
    "collapsed": false
   },
   "outputs": [
    {
     "data": {
      "image/png": "[encoded data removed]",
      "text/plain": [
       "<matplotlib.figure.Figure at 0x107114550>"
      ]
     },
     "metadata": {},
     "output_type": "display_data"
    }
   ],
   "source": [
    "# Question 19: plot horizon distance vs total mass:\n",
    "plt.figure(12)\n",
    "plt.plot(ms,Dhor,'k')\n",
    "plt.xlabel('Binary total mass (Msun)')\n",
    "plt.ylabel('Horizon distance (Mpc)')\n",
    "plt.title('Inspiral only')\n",
    "plt.show()"
   ]
  },
  {
   "cell_type": "code",
   "execution_count": 20,
   "metadata": {
    "collapsed": false
   },
   "outputs": [],
   "source": [
    "# Now use the aLIGO noise curve (in a text file)\n",
    "fname = 'ZERO_DET_high_P.txt'\n",
    "data = np.loadtxt(fname)\n",
    "f = data[:,0]          # frequency vector\n",
    "nspec = data[:,1]      # ASD (strain / rtHz)\n",
    "Sf = nspec**2          # PSD(strain**2 / Hz)\n",
    "#\n",
    "# and a PhenomC (IMR) waveform (m1 = m2 = 3, D = 1 Mpc).\n",
    "fname = 'phenomc_3-3.txt'\n",
    "datw = np.loadtxt(fname)\n",
    "fw = datw[:,0]         # frequency vector\n",
    "hw = datw[:,1]         # h(f) (strain/Hz)\n",
    "m10 = 3.               # m1 = m2 = m10 in units of Msun\n",
    "ec = 0.25**(3./5.)     # mass ratio factor for m1=m2\n",
    "mc0 = 2.*m10*ec        # chirp mass in units of Msun"
   ]
  },
  {
   "cell_type": "code",
   "execution_count": 21,
   "metadata": {
    "collapsed": false
   },
   "outputs": [
    {
     "name": "stderr",
     "output_type": "stream",
     "text": [
      "/opt/local/Library/Frameworks/Python.framework/Versions/2.7/lib/python2.7/site-packages/IPython/kernel/__main__.py:16: RuntimeWarning: divide by zero encountered in log\n",
      "/opt/local/Library/Frameworks/Python.framework/Versions/2.7/lib/python2.7/site-packages/IPython/kernel/__main__.py:24: RuntimeWarning: divide by zero encountered in log\n",
      "/opt/local/Library/Frameworks/Python.framework/Versions/2.7/lib/python2.7/site-packages/IPython/kernel/__main__.py:31: RuntimeWarning: divide by zero encountered in log\n",
      "/opt/local/Library/Frameworks/Python.framework/Versions/2.7/lib/python2.7/site-packages/IPython/kernel/__main__.py:38: RuntimeWarning: divide by zero encountered in log\n"
     ]
    },
    {
     "data": {
      "image/png": "[encoded data removed]",
      "text/plain": [
       "<matplotlib.figure.Figure at 0x107102e10>"
      ]
     },
     "metadata": {},
     "output_type": "display_data"
    }
   ],
   "source": [
    "# scale the waveform and plot against the ASD\n",
    "\n",
    "f_min = 10.            # starting GW frequency (Hz)\n",
    "f_max = 4096.          # ending GW frequency (Hz)\n",
    "Dist = 200.            # Mpc\n",
    "pow = 2.               # scale the waveform by a power of Mchirp\n",
    "\n",
    "titl = 'PhenomC with m1 = m2, dist. = 200 Mpc'\n",
    "plt.figure()\n",
    "\n",
    "# a waveform with m1 = m2 = 3\n",
    "m1 = 3.\n",
    "mc = 2.*m1*ec\n",
    "fw1 = fw*m10/m1     # scale the frequency vector\n",
    "hws = (mc/mc0)**(pow)*hw*np.sqrt(fw1)/Dist # scale the waveform\n",
    "hw1 = np.exp(np.interp(f,fw1,np.log(hws))) # interpolate to ASD \n",
    "plt.loglog(f, hw1,label='m1 = m2 = '+str(m1)+r' $M_{sun}$')\n",
    "\n",
    "# and other masses:\n",
    "m1 = 20.\n",
    "mc = 2.*m1*ec\n",
    "fw1 = fw*m10/m1\n",
    "hws = (mc/mc0)**(pow)*hw/Dist*np.sqrt(fw1)\n",
    "hw1 = np.exp(np.interp(f,fw1,np.log(hws)))\n",
    "plt.loglog(f, hw1,label='m1 = m2 = '+str(m1)+r' $M_{sun}$')\n",
    "\n",
    "m1 = 50.\n",
    "mc = 2.*m1*ec\n",
    "fw1 = fw*m10/m1\n",
    "hws = (mc/mc0)**(pow)*hw/Dist*np.sqrt(fw1)\n",
    "hw1 = np.exp(np.interp(f,fw1,np.log(hws)))\n",
    "plt.loglog(f, hw1,label='m1 = m2 = '+str(m1)+r' $M_{sun}$')\n",
    "\n",
    "m1 = 250.\n",
    "mc = 2.*m1*ec\n",
    "fw1 = fw*m10/m1\n",
    "hws = (mc/mc0)**(pow)*hw/Dist*np.sqrt(fw1)\n",
    "hw1 = np.exp(np.interp(f,fw1,np.log(hws)))\n",
    "plt.loglog(f, hw1,label='m1 = m2 = '+str(m1)+r' $M_{sun}$')\n",
    "\n",
    "plt.plot(f,nspec,'k',label=\"aLIGO ZDHP\",linewidth=2.5)\n",
    "plt.xlim([f_min, f_max])\n",
    "plt.ylim([1.e-24, 1.e-19])\n",
    "plt.xlabel('frequency (Hz)')\n",
    "plt.ylabel('h(f)*sqrtf, and ASD (strain/rtHz)')\n",
    "plt.grid()\n",
    "plt.legend()\n",
    "plt.title(titl,fontsize=11)\n",
    "# plt.savefig(\"wf2.png\")\n",
    "plt.show()"
   ]
  },
  {
   "cell_type": "code",
   "execution_count": 22,
   "metadata": {
    "collapsed": false
   },
   "outputs": [
    {
     "name": "stderr",
     "output_type": "stream",
     "text": [
      "/opt/local/Library/Frameworks/Python.framework/Versions/2.7/lib/python2.7/site-packages/IPython/kernel/__main__.py:33: RuntimeWarning: divide by zero encountered in log\n",
      "/opt/local/Library/Frameworks/Python.framework/Versions/2.7/lib/python2.7/site-packages/IPython/kernel/__main__.py:38: RuntimeWarning: divide by zero encountered in log\n"
     ]
    },
    {
     "data": {
      "image/png": "[encoded data removed]",
      "text/plain": [
       "<matplotlib.figure.Figure at 0x107725f50>"
      ]
     },
     "metadata": {},
     "output_type": "display_data"
    }
   ],
   "source": [
    "# Question 20: plot horizon vs mass, for aLIGO and IMR waveform, m1=m2\n",
    "\n",
    "f_min = 10.      #starting GW frequency (Hz)\n",
    "f_max = 4096.    #ending GW frequency (Hz)\n",
    "\n",
    "# masses in SI units for waveform scaling\n",
    "M0 = 2.*3.*Msun\n",
    "Mc0 = M0*(1./4.)**(3./5.)\n",
    "df = f[2]-f[1]\n",
    "pow = 2.\n",
    "\n",
    "# loop over masses, compute horizon distance for binary inspiral.\n",
    "# If needed, make this loop faster by computing constants at the start.\n",
    "ms = np.arange(2.,2000.,1.)\n",
    "#ms = np.arange(2.,400.,1.)\n",
    "DhorI = []\n",
    "DhorIMR = []\n",
    "for M in ms*Msun:\n",
    "    # Mu = (M/2.)*(M/2.)/M\n",
    "    # Mchirp = M**(2./5.)*Mu**(3./5.)   # chirp mass\n",
    "    Mchirp = M*(1./4.)**(3./5.)   # chirp mass\n",
    "    # compute the frequency at ISCO:\n",
    "    # aorbI = 6.*G*M/c**2\n",
    "    # fGWI = np.sqrt(G*M/aorbI**3)/pi\n",
    "    fGWI = 1./(6.**(3./2.)*pi*G*M/c**3)\n",
    "    # frequency vectors should end at ISCO:\n",
    "    fI = f[(f < fGWI) & (f > f_min)]\n",
    "    SfI = Sf[(f< fGWI) & (f > f_min)]\n",
    "\n",
    "    # now for the IMR waveform:\n",
    "    fw1 = fw*M0/M\n",
    "    hws = (Mchirp/Mc0)**(pow)*hw\n",
    "    hw1 = np.exp(np.interp(fI,fw1,np.log(hws)))\n",
    "    SNR = np.sqrt(4.*np.sum(hw1**2/SfI)*df)\n",
    "    DhorI.append(SNR/8.)    # horizon distance\n",
    "    fI = f[(f < f_max) & (f > f_min)]\n",
    "    SfI = Sf[(f< f_max) & (f > f_min)]\n",
    "    hw1 = np.exp(np.interp(fI,fw1,np.log(hws)))\n",
    "    SNR = np.sqrt(4.*np.sum(hw1**2/SfI)*df)\n",
    "    DhorIMR.append(SNR/8.)    # horizon distance\n",
    "    #print 'debug:',M/Msun,hf[:4]/hw1[:4]\n",
    "\n",
    "# put the python list into a numpy array:\n",
    "DhorI = np.array(DhorI)    \n",
    "DhorIMR = np.array(DhorIMR)    \n",
    "\n",
    "plt.figure()\n",
    "plt.plot(ms,DhorI,'k',label='Inspiral')\n",
    "plt.plot(ms,DhorIMR,'r',label='IMR')\n",
    "plt.xlabel('Binary total mass (Msun)')\n",
    "plt.ylabel('Horizon distance (Mpc)')\n",
    "plt.legend(loc=1)\n",
    "plt.title('Phenomc, m1=m2, aLIGO')\n",
    "#plt.savefig(\"wf3.png\")\n",
    "plt.show()\n"
   ]
  }
 ],
 "metadata": {
  "kernelspec": {
   "display_name": "Python 2",
   "language": "python",
   "name": "python2"
  },
  "language_info": {
   "codemirror_mode": {
    "name": "ipython",
    "version": 2
   },
   "file_extension": ".py",
   "mimetype": "text/x-python",
   "name": "python",
   "nbconvert_exporter": "python",
   "pygments_lexer": "ipython2",
   "version": "2.7.10"
  }
 },
 "nbformat": 4,
 "nbformat_minor": 0
}
